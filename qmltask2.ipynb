{
  "nbformat": 4,
  "nbformat_minor": 0,
  "metadata": {
    "colab": {
      "provenance": []
    },
    "kernelspec": {
      "name": "python3",
      "display_name": "Python 3"
    },
    "language_info": {
      "name": "python"
    }
  },
  "cells": [
    {
      "cell_type": "code",
      "execution_count": null,
      "metadata": {
        "colab": {
          "base_uri": "https://localhost:8080/"
        },
        "id": "lkAS9fObRMuZ",
        "outputId": "92f2c0bb-2d35-4b0b-fa59-2734700f2f08"
      },
      "outputs": [
        {
          "output_type": "stream",
          "name": "stdout",
          "text": [
            "\n",
            "==================================================\n",
            "TASK 2: PAULI MATRICES AND EIGEN-ANALYSIS\n",
            "==================================================\n",
            "Pauli-X matrix:\n",
            "[[0 1]\n",
            " [1 0]]\n",
            "\n",
            "Pauli-Y matrix:\n",
            "[[ 0.+0.j -0.-1.j]\n",
            " [ 0.+1.j  0.+0.j]]\n",
            "\n",
            "Pauli-Z matrix:\n",
            "[[ 1  0]\n",
            " [ 0 -1]]\n",
            "\n",
            "Applying Pauli-X to |0⟩: [0 1]\n",
            "Applying Pauli-X to |1⟩: [1 0]\n",
            "\n",
            "Pauli-X Eigenvalues: [ 1.+0.j -1.+0.j]\n",
            "Pauli-X Eigenvectors:\n",
            " λ=1.0+0.0j: [0.70710678 0.70710678]\n",
            " λ=-1.0+0.0j: [-0.70710678  0.70710678]\n",
            "\n",
            "Pauli-Y Eigenvalues: [ 1.+0.j -1.+0.j]\n",
            "Pauli-Y Eigenvectors:\n",
            " λ=1.0+0.0j: [-0.        -0.70710678j  0.70710678+0.j        ]\n",
            " λ=-1.0+0.0j: [0.70710678+0.j         0.        -0.70710678j]\n",
            "\n",
            "Pauli-Z Eigenvalues: [ 1.+0.j -1.+0.j]\n",
            "Pauli-Z Eigenvectors:\n",
            " λ=1.0+0.0j: [1. 0.]\n",
            " λ=-1.0+0.0j: [0. 1.]\n"
          ]
        }
      ],
      "source": [
        "import numpy as np , matplotlib.pyplot as plt\n",
        "from scipy.linalg import eig\n",
        "\n",
        "print(\"\\n\" + \"=\"*50)\n",
        "print(\"TASK 2: PAULI MATRICES AND EIGEN-ANALYSIS\")\n",
        "print(\"=\"*50)\n",
        "# Define Pauli matrices\n",
        "pauli_x = np.array([[0, 1], [1, 0]])\n",
        "pauli_y = np.array([[0, -1j], [1j, 0]])\n",
        "pauli_z = np.array([[1, 0], [0, -1]])\n",
        "print(\"Pauli-X matrix:\")\n",
        "print(pauli_x)\n",
        "print(\"\\nPauli-Y matrix:\")\n",
        "print(pauli_y)\n",
        "print(\"\\nPauli-Z matrix:\")\n",
        "print(pauli_z)\n",
        "# Apply to qubit states\n",
        "qubit_0 = np.array([1, 0]) # |0⟩\n",
        "qubit_1 = np.array([0, 1]) # |1⟩\n",
        "print(\"\\nApplying Pauli-X to |0⟩:\", pauli_x @ qubit_0)\n",
        "print(\"Applying Pauli-X to |1⟩:\", pauli_x @ qubit_1)\n",
        "# Compute eigenvalues and eigenvectors\n",
        "def analyze_operator(matrix, name):\n",
        " eigenvals, eigenvecs = eig(matrix)\n",
        " print(f\"\\n{name} Eigenvalues:\", eigenvals)\n",
        " print(f\"{name} Eigenvectors:\")\n",
        " for i, vec in enumerate(eigenvecs.T):\n",
        "  print(f\" λ={eigenvals[i]:.1f}: {vec}\")\n",
        "analyze_operator(pauli_x, \"Pauli-X\")\n",
        "analyze_operator(pauli_y, \"Pauli-Y\")\n",
        "analyze_operator(pauli_z, \"Pauli-Z\")"
      ]
    }
  ]
}